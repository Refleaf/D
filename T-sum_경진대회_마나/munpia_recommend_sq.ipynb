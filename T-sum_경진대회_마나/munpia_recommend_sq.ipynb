{
 "cells": [
  {
   "cell_type": "markdown",
   "metadata": {},
   "source": [
    "# 유사도 높은 콘텐츠 추천 프로그램 \n",
    "- munpia_novel_data 사용"
   ]
  },
  {
   "cell_type": "markdown",
   "metadata": {},
   "source": [
    "# 데이터 형태 확인"
   ]
  },
  {
   "cell_type": "code",
   "execution_count": 6,
   "metadata": {},
   "outputs": [
    {
     "data": {
      "text/html": [
       "<div>\n",
       "<style scoped>\n",
       "    .dataframe tbody tr th:only-of-type {\n",
       "        vertical-align: middle;\n",
       "    }\n",
       "\n",
       "    .dataframe tbody tr th {\n",
       "        vertical-align: top;\n",
       "    }\n",
       "\n",
       "    .dataframe thead th {\n",
       "        text-align: right;\n",
       "    }\n",
       "</style>\n",
       "<table border=\"1\" class=\"dataframe\">\n",
       "  <thead>\n",
       "    <tr style=\"text-align: right;\">\n",
       "      <th></th>\n",
       "      <th>id</th>\n",
       "      <th>title</th>\n",
       "      <th>author</th>\n",
       "      <th>intro</th>\n",
       "      <th>tags</th>\n",
       "      <th>genre</th>\n",
       "      <th>series_count</th>\n",
       "      <th>view_count</th>\n",
       "      <th>recommend_count</th>\n",
       "      <th>link</th>\n",
       "    </tr>\n",
       "  </thead>\n",
       "  <tbody>\n",
       "    <tr>\n",
       "      <th>0</th>\n",
       "      <td>0</td>\n",
       "      <td>선독점 천조국은 이제 제겁니다</td>\n",
       "      <td>코알라</td>\n",
       "      <td>캘리포니아, 천조국, 세계는 이제 제겁니다.</td>\n",
       "      <td>경영,농사,빙의,천재,환생,투자가,검은머리,먼치킨,나노머신,전설</td>\n",
       "      <td>현대판타지, 퓨전</td>\n",
       "      <td>95 회</td>\n",
       "      <td>1,035,408</td>\n",
       "      <td>31,429</td>\n",
       "      <td>https://novel.munpia.com/409689</td>\n",
       "    </tr>\n",
       "    <tr>\n",
       "      <th>1</th>\n",
       "      <td>1</td>\n",
       "      <td>선독점 아포칼립스에 집을 숨김</td>\n",
       "      <td>로드워리어</td>\n",
       "      <td>대충 세상은 망했고,\\n나는 나대로 살아야지.\\n\\n물론 럭셔리하고 고져스하게.</td>\n",
       "      <td>NaN</td>\n",
       "      <td>현대판타지, 퓨전</td>\n",
       "      <td>520 회</td>\n",
       "      <td>7,033,600</td>\n",
       "      <td>392,241</td>\n",
       "      <td>https://novel.munpia.com/342817</td>\n",
       "    </tr>\n",
       "    <tr>\n",
       "      <th>2</th>\n",
       "      <td>2</td>\n",
       "      <td>선독점 회귀한 복학생이 건축 명문대 만듦</td>\n",
       "      <td>방구석리</td>\n",
       "      <td>과로사 후 지잡대 복학생 시절로 회귀한 건축 고인물. 편입을 위해 닥치는대로 작업하...</td>\n",
       "      <td>현대판타지,드라마,사이다,이능력,회귀,건축가,디자이너,학생,능력자,먼치킨</td>\n",
       "      <td>현대판타지, 판타지</td>\n",
       "      <td>187 회</td>\n",
       "      <td>1,038,449</td>\n",
       "      <td>28,943</td>\n",
       "      <td>https://novel.munpia.com/398144</td>\n",
       "    </tr>\n",
       "    <tr>\n",
       "      <th>3</th>\n",
       "      <td>3</td>\n",
       "      <td>선독점 역천무림</td>\n",
       "      <td>라바테라</td>\n",
       "      <td>제갈세가 시종의 몸에 빙의했다.\\n적당히 꿀빨며 살려고 했는데... 아무래도 뭔가 ...</td>\n",
       "      <td>무협,빙의,하렘,얀데레</td>\n",
       "      <td>무협</td>\n",
       "      <td>162 회</td>\n",
       "      <td>1,163,881</td>\n",
       "      <td>27,819</td>\n",
       "      <td>https://novel.munpia.com/405796</td>\n",
       "    </tr>\n",
       "    <tr>\n",
       "      <th>4</th>\n",
       "      <td>4</td>\n",
       "      <td>선독점 고아출신 포수가 매의 눈을 가짐</td>\n",
       "      <td>키친캐비닛</td>\n",
       "      <td>공이 너무 잘 보인다. 이번 공은 (4, 1) 몸쪽 낮은 코스.\\n어떻게 지평좌표계...</td>\n",
       "      <td>현대판타지,스포츠,천재,회귀,운동선수,야구</td>\n",
       "      <td>스포츠, 현대판타지</td>\n",
       "      <td>112 회</td>\n",
       "      <td>544,534</td>\n",
       "      <td>14,732</td>\n",
       "      <td>https://novel.munpia.com/412821</td>\n",
       "    </tr>\n",
       "  </tbody>\n",
       "</table>\n",
       "</div>"
      ],
      "text/plain": [
       "   id                   title author  \\\n",
       "0   0        선독점 천조국은 이제 제겁니다    코알라   \n",
       "1   1        선독점 아포칼립스에 집을 숨김  로드워리어   \n",
       "2   2  선독점 회귀한 복학생이 건축 명문대 만듦   방구석리   \n",
       "3   3                선독점 역천무림   라바테라   \n",
       "4   4   선독점 고아출신 포수가 매의 눈을 가짐  키친캐비닛   \n",
       "\n",
       "                                               intro  \\\n",
       "0                           캘리포니아, 천조국, 세계는 이제 제겁니다.   \n",
       "1       대충 세상은 망했고,\\n나는 나대로 살아야지.\\n\\n물론 럭셔리하고 고져스하게.   \n",
       "2  과로사 후 지잡대 복학생 시절로 회귀한 건축 고인물. 편입을 위해 닥치는대로 작업하...   \n",
       "3  제갈세가 시종의 몸에 빙의했다.\\n적당히 꿀빨며 살려고 했는데... 아무래도 뭔가 ...   \n",
       "4  공이 너무 잘 보인다. 이번 공은 (4, 1) 몸쪽 낮은 코스.\\n어떻게 지평좌표계...   \n",
       "\n",
       "                                       tags       genre series_count  \\\n",
       "0       경영,농사,빙의,천재,환생,투자가,검은머리,먼치킨,나노머신,전설   현대판타지, 퓨전         95 회   \n",
       "1                                       NaN   현대판타지, 퓨전        520 회   \n",
       "2  현대판타지,드라마,사이다,이능력,회귀,건축가,디자이너,학생,능력자,먼치킨  현대판타지, 판타지        187 회   \n",
       "3                              무협,빙의,하렘,얀데레          무협        162 회   \n",
       "4                   현대판타지,스포츠,천재,회귀,운동선수,야구  스포츠, 현대판타지        112 회   \n",
       "\n",
       "  view_count recommend_count                             link  \n",
       "0  1,035,408          31,429  https://novel.munpia.com/409689  \n",
       "1  7,033,600         392,241  https://novel.munpia.com/342817  \n",
       "2  1,038,449          28,943  https://novel.munpia.com/398144  \n",
       "3  1,163,881          27,819  https://novel.munpia.com/405796  \n",
       "4    544,534          14,732  https://novel.munpia.com/412821  "
      ]
     },
     "execution_count": 6,
     "metadata": {},
     "output_type": "execute_result"
    }
   ],
   "source": [
    "import pandas as pd\n",
    "\n",
    "df = pd.read_csv(\"munpia_novel_data.csv\", encoding =\"UTF-8-SIG\")\n",
    "\n",
    "df.head()"
   ]
  },
  {
   "cell_type": "code",
   "execution_count": 5,
   "metadata": {},
   "outputs": [
    {
     "name": "stdout",
     "output_type": "stream",
     "text": [
      "{'encoding': 'UTF-8-SIG', 'confidence': 1.0, 'language': ''}\n"
     ]
    }
   ],
   "source": [
    "import chardet\n",
    "\n",
    "with open('munpia_novel_data.csv', 'rb') as f:\n",
    "    result = chardet.detect(f.read())\n",
    "    encoding = result['encoding']\n",
    "\n",
    "df = pd.read_csv(\"munpia_novel_data.csv\", encoding=encoding)\n",
    "print(result)"
   ]
  },
  {
   "cell_type": "code",
   "execution_count": 7,
   "metadata": {},
   "outputs": [
    {
     "data": {
      "text/plain": [
       "Index(['id', 'title', 'author', 'intro', 'tags', 'genre', 'series_count',\n",
       "       'view_count', 'recommend_count', 'link'],\n",
       "      dtype='object')"
      ]
     },
     "execution_count": 7,
     "metadata": {},
     "output_type": "execute_result"
    }
   ],
   "source": [
    "df.columns"
   ]
  },
  {
   "cell_type": "code",
   "execution_count": 8,
   "metadata": {},
   "outputs": [
    {
     "data": {
      "text/plain": [
       "RangeIndex(start=0, stop=13945, step=1)"
      ]
     },
     "execution_count": 8,
     "metadata": {},
     "output_type": "execute_result"
    }
   ],
   "source": [
    "df.index"
   ]
  },
  {
   "cell_type": "code",
   "execution_count": 9,
   "metadata": {},
   "outputs": [
    {
     "name": "stdout",
     "output_type": "stream",
     "text": [
      "<class 'pandas.core.frame.DataFrame'>\n",
      "RangeIndex: 13945 entries, 0 to 13944\n",
      "Data columns (total 10 columns):\n",
      " #   Column           Non-Null Count  Dtype \n",
      "---  ------           --------------  ----- \n",
      " 0   id               13945 non-null  int64 \n",
      " 1   title            13945 non-null  object\n",
      " 2   author           13945 non-null  object\n",
      " 3   intro            13945 non-null  object\n",
      " 4   tags             6078 non-null   object\n",
      " 5   genre            13945 non-null  object\n",
      " 6   series_count     13945 non-null  object\n",
      " 7   view_count       13945 non-null  object\n",
      " 8   recommend_count  13945 non-null  object\n",
      " 9   link             13945 non-null  object\n",
      "dtypes: int64(1), object(9)\n",
      "memory usage: 1.1+ MB\n"
     ]
    }
   ],
   "source": [
    "df.info()"
   ]
  },
  {
   "cell_type": "markdown",
   "metadata": {},
   "source": [
    "# 데이터 유사성 확인 중요도 결정\n",
    "\n",
    "- id           = 작품 고유 번호 중요도 낮음\n",
    "\n",
    "- title        = 유사도에 높은 관여를 하는 오브젝트로 결정\n",
    "\n",
    "- author       = 유사도에 적은 관여를 하는  오브젝트로 결정\n",
    "\n",
    "- intro        = 유사도에 높은 관여를 하는 오브젝트로 결정\n",
    "\n",
    "- tags         = 유사도에 높은 관여를 하는 오브젝트로 결정\n",
    "\n",
    "- genre        = 유사도에 높은 관여를 하는 오브젝트로 결정\n",
    "\n",
    "- series_count = 유사도에 적은 관여를 함.\n",
    "\n",
    "- view_count   = 유사도와 적은 관여를 함.\n",
    "\n",
    "- recommend_count = 유사도와 관련이 높은 항목\n",
    "\n",
    "- link         = 유사도와 관련 없음 "
   ]
  },
  {
   "cell_type": "code",
   "execution_count": 1,
   "metadata": {},
   "outputs": [],
   "source": [
    "# 사용 모듈\n",
    "\n",
    "import pandas as pd\n",
    "import numpy as np\n",
    "from sklearn.feature_extraction.text import TfidfVectorizer\n",
    "from sklearn.metrics.pairwise import cosine_similarity\n",
    "from sklearn.neighbors import NearestNeighbors\n",
    "from scipy.sparse import hstack\n",
    "\n"
   ]
  },
  {
   "cell_type": "markdown",
   "metadata": {},
   "source": [
    "# 유사도 확인 프로그램 코드 작성\n",
    "- TF-idf와 KNN 모델 사용    "
   ]
  },
  {
   "cell_type": "code",
   "execution_count": 4,
   "metadata": {},
   "outputs": [
    {
     "name": "stdout",
     "output_type": "stream",
     "text": [
      "'선독점 전지적 독자 시점'와(과) 유사한 웹툰 추천 결과:\n",
      "1. 선독점 코딩의 신 IT재벌 되다 (유사도: 0.56)\n",
      "2. 선독점 나 혼자만 강화술사 (유사도: 0.55)\n",
      "3. 선독점 스킬 줍는 천재 기사 (유사도: 0.54)\n",
      "4. 선독점 대마도사 서자는 전생 플레이어 (유사도: 0.44)\n",
      "5. 선독점 실전된 무공으로 먼치킨 (유사도: 0.42)\n",
      "6. 선독점 나 혼자 게이트 속 세상을 알고 있다. (유사도: 0.40)\n",
      "7. 선독점 다차원의 강령술사 (유사도: 0.39)\n",
      "8. 선독점 킬 더 히어로 (유사도: 0.37)\n",
      "9. 선독점 미친 소드마스터들의 구원자 (유사도: 0.35)\n",
      "10. 선독점 멸망한 세계의 커뮤니티 사용법 (유사도: 0.35)\n"
     ]
    }
   ],
   "source": [
    "# 데이터 불러오기\n",
    "data = pd.read_csv('munpia_novel_data.csv')\n",
    "\n",
    "# 필요 컬럼 선택\n",
    "data = data[['title', 'author', 'intro', 'tags', 'genre']]\n",
    "data.drop_duplicates(subset=['title'], inplace=True)  # 중복된 제목 제거\n",
    "\n",
    "# 결측치 제거\n",
    "data.dropna(subset=['intro'], inplace=True)\n",
    "\n",
    "# TF-IDF 벡터화\n",
    "vectorizer = TfidfVectorizer(stop_words='english', max_features=5000)\n",
    "tfidf_matrix = vectorizer.fit_transform(data['intro'])\n",
    "\n",
    "# KNN 모델 학습\n",
    "knn_model = NearestNeighbors(metric='cosine', algorithm='brute')\n",
    "knn_model.fit(tfidf_matrix)\n",
    "\n",
    "# 추천 함수 정의\n",
    "def recommend_webtoon(title, num_recommendations=10):\n",
    "    # 입력된 제목의 인덱스 찾기\n",
    "    if title not in data['title'].values:\n",
    "        print(f\"'{title}' 제목의 웹툰을 찾을 수 없습니다.\")\n",
    "        return\n",
    "    \n",
    "    idx = data.index[data['title'] == title][0]\n",
    "    tfidf_vector = tfidf_matrix[idx]\n",
    "    \n",
    "    # 유사한 웹툰 찾기\n",
    "    distances, indices = knn_model.kneighbors(tfidf_vector, n_neighbors=num_recommendations + 1)\n",
    "    \n",
    "    # 결과 출력\n",
    "    print(f\"'{title}'와(과) 유사한 웹툰 추천 결과:\")\n",
    "    for i in range(1, len(indices.flatten())):\n",
    "        similar_idx = indices.flatten()[i]\n",
    "        similar_title = data.iloc[similar_idx]['title']\n",
    "        similarity_score = 1 - distances.flatten()[i]\n",
    "        print(f\"{i}. {similar_title} (유사도: {similarity_score:.2f})\")\n",
    "\n",
    "# 테스트\n",
    "title_to_recommend = input(\"추천받고 싶은 웹툰의 제목을 입력하세요: \")\n",
    "recommend_webtoon(title_to_recommend)\n"
   ]
  },
  {
   "cell_type": "markdown",
   "metadata": {},
   "source": [
    "# 목록별 가중치 설정    "
   ]
  },
  {
   "cell_type": "code",
   "execution_count": null,
   "metadata": {},
   "outputs": [
    {
     "name": "stdout",
     "output_type": "stream",
     "text": [
      "'선독점 전지적 독자 시점'와(과) 유사한 웹툰 추천 결과:\n",
      "1. 선독점 코딩의 신 IT재벌 되다 (유사도: 0.73)\n",
      "2. 선독점 마법천재 마술방송 (유사도: 0.60)\n",
      "3. 선독점 감독보다 영화사 대표님 (유사도: 0.60)\n",
      "4. 선독점 내 아공간이 지구와 연결되어있다 (유사도: 0.55)\n",
      "5. 선독점 먼치킨의 정석 (유사도: 0.55)\n",
      "6. 선독점 천상계 지갑전사 (유사도: 0.55)\n",
      "7. 선독점 책보고 가라 (유사도: 0.55)\n",
      "8. 선독점 정자부터 잘생김 (유사도: 0.55)\n",
      "9. 데우스 큐브(DEUS CUBE) (유사도: 0.53)\n",
      "10. 선독점 아포칼립스로 억만장자 (유사도: 0.53)\n"
     ]
    }
   ],
   "source": [
    "# 데이터 불러오기\n",
    "data = pd.read_csv('munpia_novel_data.csv')\n",
    "\n",
    "# 필요 컬럼 선택\n",
    "data = data[['title', 'author', 'intro', 'tags', 'genre']]\n",
    "data.drop_duplicates(subset=['title'], inplace=True)  # 중복된 제목 제거\n",
    "\n",
    "# 결측치 제거\n",
    "data.dropna(subset=['intro'], inplace=True)\n",
    "\n",
    "# 가중치 설정 (예: title: 0.2, author: 0.1, intro: 0.5, tags: 0.1, genre: 0.1)\n",
    "weight_title = 0.1\n",
    "weight_author = 0.1\n",
    "weight_intro = 0.3\n",
    "weight_tags = 0.3\n",
    "weight_genre = 0.2\n",
    "\n",
    "# 각 컬럼에 대해 TF-IDF 벡터화\n",
    "vectorizer_title = TfidfVectorizer(stop_words='english', max_features=500)\n",
    "vectorizer_author = TfidfVectorizer(stop_words='english', max_features=500)\n",
    "vectorizer_intro = TfidfVectorizer(stop_words='english', max_features=3000)\n",
    "vectorizer_tags = TfidfVectorizer(stop_words='english', max_features=3000)\n",
    "vectorizer_genre = TfidfVectorizer(stop_words='english', max_features=2000)\n",
    "\n",
    "tfidf_title = vectorizer_title.fit_transform(data['title']) * weight_title\n",
    "tfidf_author = vectorizer_author.fit_transform(data['author'].fillna('')) * weight_author\n",
    "tfidf_intro = vectorizer_intro.fit_transform(data['intro']) * weight_intro\n",
    "tfidf_tags = vectorizer_tags.fit_transform(data['tags'].fillna('')) * weight_tags\n",
    "tfidf_genre = vectorizer_genre.fit_transform(data['genre'].fillna('')) * weight_genre\n",
    "\n",
    "# 각 TF-IDF 벡터 결합\n",
    "tfidf_matrix = hstack([tfidf_title, tfidf_author, tfidf_intro, tfidf_tags, tfidf_genre])\n",
    "\n",
    "# KNN 모델 학습\n",
    "knn_model = NearestNeighbors(metric='cosine', algorithm='brute')\n",
    "knn_model.fit(tfidf_matrix)\n",
    "\n",
    "# 추천 함수 정의\n",
    "def recommend_webtoon(title, num_recommendations=10):\n",
    "    # 입력된 제목의 인덱스 찾기\n",
    "    if title not in data['title'].values:\n",
    "        print(f\"'{title}' 제목의 웹툰을 찾을 수 없습니다.\")\n",
    "        return\n",
    "    \n",
    "    idx = data.index[data['title'] == title][0]\n",
    "    tfidf_vector = tfidf_matrix[idx]\n",
    "    \n",
    "    # 유사한 웹툰 찾기\n",
    "    distances, indices = knn_model.kneighbors(tfidf_vector, n_neighbors=num_recommendations + 1)\n",
    "    \n",
    "    # 결과 출력\n",
    "    print(f\"'{title}'와(과) 유사한 웹툰 추천 결과:\")\n",
    "    for i in range(1, len(indices.flatten())):\n",
    "        similar_idx = indices.flatten()[i]\n",
    "        similar_title = data.iloc[similar_idx]['title']\n",
    "        similarity_score = 1 - distances.flatten()[i]\n",
    "        print(f\"{i}. {similar_title} (유사도: {similarity_score:.2f})\")\n",
    "\n",
    "# 테스트\n",
    "title_to_recommend = input(\"추천받고 싶은 웹툰의 제목을 입력하세요: \")\n",
    "recommend_webtoon(title_to_recommend)\n",
    "\n",
    "# 설명: 제목(title), 작가(author), 소개(intro), 태그(tags), 장르(genre)별로 가중치를 적용하여 유사도를 계산합니다.\n",
    "# 이를 통해 중요한 요소에 가중치를 반영해 더욱 정교한 추천 결과를 제공합니다.\n"
   ]
  },
  {
   "cell_type": "markdown",
   "metadata": {},
   "source": [
    "- 가중치 변경시 유사도가 올라감. 현재 최적 가중치 \n",
    "- weight_title = 0.1\n",
    "- weight_author = 0.1\n",
    "- weight_intro = 0.3\n",
    "- weight_tags = 0.3\n",
    "- weight_genre = 0.2"
   ]
  },
  {
   "cell_type": "markdown",
   "metadata": {},
   "source": [
    "# TF-idf에 한국어 불용어 적용 안된 것을 확인 불용어 적용    "
   ]
  },
  {
   "cell_type": "code",
   "execution_count": null,
   "metadata": {},
   "outputs": [
    {
     "name": "stdout",
     "output_type": "stream",
     "text": [
      "'선독점 전지적 독자 시점'와(과) 유사한 웹툰 추천 결과:\n",
      "1. 선독점 코딩의 신 IT재벌 되다 (유사도: 0.74)\n",
      "2. 선독점 감독보다 영화사 대표님 (유사도: 0.55)\n",
      "3. 선독점 마법천재 마술방송 (유사도: 0.55)\n",
      "4. 선독점 내 아공간이 지구와 연결되어있다 (유사도: 0.52)\n",
      "5. 선독점 미친 소드마스터들의 구원자 (유사도: 0.51)\n",
      "6. 선독점 대마도사 서자는 전생 플레이어 (유사도: 0.51)\n",
      "7. 선독점 실전된 무공으로 먼치킨 (유사도: 0.50)\n",
      "8. 선독점 신이 내린 방송천재 (유사도: 0.50)\n",
      "9. 3차대전 (유사도: 0.50)\n",
      "10. 선독점 천상계 지갑전사 (유사도: 0.50)\n"
     ]
    }
   ],
   "source": [
    "# 데이터 불러오기\n",
    "data = pd.read_csv('munpia_novel_data.csv')\n",
    "\n",
    "# 필요 컬럼 선택\n",
    "data = data[['title', 'author', 'intro', 'tags', 'genre']]\n",
    "data.drop_duplicates(subset=['title'], inplace=True)  # 중복된 제목 제거\n",
    "\n",
    "# 결측치 제거\n",
    "data.dropna(subset=['intro'], inplace=True)\n",
    "\n",
    "# 한국어 불용어 리스트를 리스트로 설정\n",
    "stop_words = [\"를\", \"의\", \"선\", \"독점\", \"선독점\", \"독점작\", \"이번\", \"들\", \"등\", \"수\", \"이\", \"부\", \"판\", \"뿐\", \"여자\", \"남자\", \"그\", \"것\", \"나\", \"그녀\", \"속\", \"시작\", \"내\", \"거\", \"중\"]\n",
    "\n",
    "# 가중치 설정 (예: title: 0.1, author: 0.1, intro: 0.3, tags: 0.3, genre: 0.2)\n",
    "weight_title = 0.1\n",
    "weight_author = 0.1\n",
    "weight_intro = 0.3\n",
    "weight_tags = 0.3\n",
    "weight_genre = 0.2\n",
    "\n",
    "# 각 컬럼에 대해 TF-IDF 벡터화\n",
    "vectorizer_title = TfidfVectorizer(stop_words=stop_words, max_features=500)\n",
    "vectorizer_author = TfidfVectorizer(stop_words=stop_words, max_features=500)\n",
    "vectorizer_intro = TfidfVectorizer(stop_words=stop_words, max_features=3000)\n",
    "vectorizer_tags = TfidfVectorizer(stop_words=stop_words, max_features=3000)\n",
    "vectorizer_genre = TfidfVectorizer(stop_words=stop_words, max_features=2000)\n",
    "\n",
    "tfidf_title = vectorizer_title.fit_transform(data['title']) * weight_title\n",
    "tfidf_author = vectorizer_author.fit_transform(data['author'].fillna('')) * weight_author\n",
    "tfidf_intro = vectorizer_intro.fit_transform(data['intro']) * weight_intro\n",
    "tfidf_tags = vectorizer_tags.fit_transform(data['tags'].fillna('')) * weight_tags\n",
    "tfidf_genre = vectorizer_genre.fit_transform(data['genre'].fillna('')) * weight_genre\n",
    "\n",
    "# 각 TF-IDF 벡터 결합\n",
    "tfidf_matrix = hstack([tfidf_title, tfidf_author, tfidf_intro, tfidf_tags, tfidf_genre])\n",
    "\n",
    "# KNN 모델 학습\n",
    "knn_model = NearestNeighbors(metric='cosine', algorithm='brute')\n",
    "knn_model.fit(tfidf_matrix)\n",
    "\n",
    "# 추천 함수 정의\n",
    "def recommend_webtoon(title, num_recommendations=10):\n",
    "    # 입력된 제목의 인덱스 찾기\n",
    "    if title not in data['title'].values:\n",
    "        print(f\"'{title}' 제목의 웹툰을 찾을 수 없습니다.\")\n",
    "        return\n",
    "    \n",
    "    idx = data.index[data['title'] == title][0]\n",
    "    tfidf_vector = tfidf_matrix[idx]\n",
    "    \n",
    "    # 유사한 웹툰 찾기\n",
    "    distances, indices = knn_model.kneighbors(tfidf_vector, n_neighbors=num_recommendations + 1)\n",
    "    \n",
    "    # 결과 출력\n",
    "    print(f\"'{title}'와(과) 유사한 웹툰 추천 결과:\")\n",
    "    for i in range(1, len(indices.flatten())):\n",
    "        similar_idx = indices.flatten()[i]\n",
    "        similar_title = data.iloc[similar_idx]['title']\n",
    "        similarity_score = 1 - distances.flatten()[i]\n",
    "        print(f\"{i}. {similar_title} (유사도: {similarity_score:.2f})\")\n",
    "\n",
    "# 테스트\n",
    "title_to_recommend = input(\"추천받고 싶은 웹툰의 제목을 입력하세요: \")\n",
    "recommend_webtoon(title_to_recommend)\n",
    "\n",
    "# 설명: 각 컬럼에 대해 불용어 리스트를 적용하여 TF-IDF 벡터화를 수행합니다.\n",
    "# 제목(title), 작가(author), 소개(intro), 태그(tags), 장르(genre)별로 가중치를 적용하여 유사도를 계산합니다.\n"
   ]
  }
 ],
 "metadata": {
  "kernelspec": {
   "display_name": "Python 3",
   "language": "python",
   "name": "python3"
  },
  "language_info": {
   "codemirror_mode": {
    "name": "ipython",
    "version": 3
   },
   "file_extension": ".py",
   "mimetype": "text/x-python",
   "name": "python",
   "nbconvert_exporter": "python",
   "pygments_lexer": "ipython3",
   "version": "3.12.6"
  }
 },
 "nbformat": 4,
 "nbformat_minor": 2
}
